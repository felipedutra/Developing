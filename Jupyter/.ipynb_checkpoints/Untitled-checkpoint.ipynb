{
 "cells": [
  {
   "cell_type": "code",
   "execution_count": null,
   "id": "2651eb19",
   "metadata": {},
   "outputs": [],
   "source": [
    "import pyautogui as pg\n",
    "\n",
    "#pyautogui basic commands:\n",
    "#pg.click\n",
    "#pg.press\n",
    "#pg.hotkey\n",
    "#pg.write\n",
    "fhandle = open(\"curriculum.pdf\")\n",
    "\n",
    "\n",
    "\n",
    "\n"
   ]
  },
  {
   "cell_type": "code",
   "execution_count": null,
   "id": "f4f50955",
   "metadata": {},
   "outputs": [],
   "source": [
    "import pyautogui\n",
    "# Passo 1: Pegar o arquivo para enviar. No caso o curriculo.\n",
    "pyautogui.hotkey(\"ctrl\"; \"t\")\n",
    "# Passo 2: Enviar o e-mail para os contatos.\n",
    "# pyautogui -> biblioteca\n",
    "# pandas -> biblioteca\n",
    "\n"
   ]
  },
  {
   "cell_type": "code",
   "execution_count": null,
   "id": "2772f426",
   "metadata": {},
   "outputs": [],
   "source": [
    " !pip show pyautogui command"
   ]
  },
  {
   "cell_type": "code",
   "execution_count": null,
   "id": "1982f945",
   "metadata": {},
   "outputs": [],
   "source": [
    "print(\"Hello World\")"
   ]
  },
  {
   "cell_type": "code",
   "execution_count": null,
   "id": "c76fb72d",
   "metadata": {},
   "outputs": [],
   "source": []
  }
 ],
 "metadata": {
  "kernelspec": {
   "display_name": "Python 3 (ipykernel)",
   "language": "python",
   "name": "python3"
  },
  "language_info": {
   "codemirror_mode": {
    "name": "ipython",
    "version": 3
   },
   "file_extension": ".py",
   "mimetype": "text/x-python",
   "name": "python",
   "nbconvert_exporter": "python",
   "pygments_lexer": "ipython3",
   "version": "3.10.6"
  }
 },
 "nbformat": 4,
 "nbformat_minor": 5
}
