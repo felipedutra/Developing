{
 "cells": [
  {
   "cell_type": "code",
   "execution_count": 2,
   "id": "fe70ff85",
   "metadata": {},
   "outputs": [],
   "source": [
    "import pyautogui\n",
    "# Passo 1: Pegar o arquivo para enviar. No caso o curriculo.\n",
    "pyautogui.PAUSE = 1\n",
    "pyautogui.press('winleft')\n",
    "\n",
    "pyautogui.write('firefox')\n",
    "pyautogui.press('enter')\n",
    "pyautogui.hotkey(\"ctrl\", \"t\")\n",
    "\n",
    "# Passo 2: Enviar o e-mail para os contatos.\n",
    "# pyautogui -> biblioteca\n",
    "# pandas -> biblioteca\n",
    "\n"
   ]
  }
 ],
 "metadata": {
  "kernelspec": {
   "display_name": "Python 3.10.8 64-bit (microsoft store)",
   "language": "python",
   "name": "python3"
  },
  "language_info": {
   "codemirror_mode": {
    "name": "ipython",
    "version": 3
   },
   "file_extension": ".py",
   "mimetype": "text/x-python",
   "name": "python",
   "nbconvert_exporter": "python",
   "pygments_lexer": "ipython3",
   "version": "3.10.8"
  },
  "vscode": {
   "interpreter": {
    "hash": "4bc68a469b01165b4f1b96ba4c74cf4cecf434f30baa6573236f805da7a5679b"
   }
  }
 },
 "nbformat": 4,
 "nbformat_minor": 5
}
